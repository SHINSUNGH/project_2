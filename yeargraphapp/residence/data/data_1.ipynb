{
 "cells": [
  {
   "cell_type": "code",
   "execution_count": 3,
   "metadata": {},
   "outputs": [],
   "source": [
    "import pandas as pd\n",
    "import json\n",
    "import folium"
   ]
  },
  {
   "cell_type": "code",
   "execution_count": 4,
   "metadata": {},
   "outputs": [
    {
     "name": "stdout",
     "output_type": "stream",
     "text": [
      "<class 'pandas.core.frame.DataFrame'>\n",
      "RangeIndex: 2448 entries, 0 to 2447\n",
      "Data columns (total 8 columns):\n",
      " #   Column   Non-Null Count  Dtype  \n",
      "---  ------   --------------  -----  \n",
      " 0   년월       2448 non-null   object \n",
      " 1   연도       2448 non-null   int64  \n",
      " 2   월        2448 non-null   int64  \n",
      " 3   시도       2448 non-null   object \n",
      " 4   주택가격변동률  2448 non-null   float64\n",
      " 5   사용량      2448 non-null   int64  \n",
      " 6   위도       2448 non-null   float64\n",
      " 7   경도       2448 non-null   float64\n",
      "dtypes: float64(3), int64(3), object(2)\n",
      "memory usage: 153.1+ KB\n"
     ]
    }
   ],
   "source": [
    "df_1 = pd.read_csv(\"./전력량_주택_all.csv\")\n",
    "df_1.drop(columns=['Unnamed: 0'], inplace=True)\n",
    "df_1.info()"
   ]
  },
  {
   "cell_type": "code",
   "execution_count": 5,
   "metadata": {},
   "outputs": [],
   "source": [
    "df_1['년월'] = df_1['년월'].apply(lambda x: pd.to_datetime(str(x), format='%Y_%m'))"
   ]
  },
  {
   "cell_type": "code",
   "execution_count": 3,
   "metadata": {},
   "outputs": [],
   "source": [
    "df_1[\"년월\"] = pd.to_datetime(df_1[\"년월\"] + \"-01\")"
   ]
  },
  {
   "cell_type": "code",
   "execution_count": 6,
   "metadata": {},
   "outputs": [
    {
     "name": "stdout",
     "output_type": "stream",
     "text": [
      "<class 'pandas.core.frame.DataFrame'>\n",
      "RangeIndex: 2448 entries, 0 to 2447\n",
      "Data columns (total 8 columns):\n",
      " #   Column   Non-Null Count  Dtype         \n",
      "---  ------   --------------  -----         \n",
      " 0   년월       2448 non-null   datetime64[ns]\n",
      " 1   연도       2448 non-null   int64         \n",
      " 2   월        2448 non-null   int64         \n",
      " 3   시도       2448 non-null   object        \n",
      " 4   주택가격변동률  2448 non-null   float64       \n",
      " 5   사용량      2448 non-null   int64         \n",
      " 6   위도       2448 non-null   float64       \n",
      " 7   경도       2448 non-null   float64       \n",
      "dtypes: datetime64[ns](1), float64(3), int64(3), object(1)\n",
      "memory usage: 153.1+ KB\n"
     ]
    }
   ],
   "source": [
    "df_1.info()"
   ]
  },
  {
   "cell_type": "code",
   "execution_count": 7,
   "metadata": {},
   "outputs": [
    {
     "data": {
      "text/html": [
       "<div>\n",
       "<style scoped>\n",
       "    .dataframe tbody tr th:only-of-type {\n",
       "        vertical-align: middle;\n",
       "    }\n",
       "\n",
       "    .dataframe tbody tr th {\n",
       "        vertical-align: top;\n",
       "    }\n",
       "\n",
       "    .dataframe thead th {\n",
       "        text-align: right;\n",
       "    }\n",
       "</style>\n",
       "<table border=\"1\" class=\"dataframe\">\n",
       "  <thead>\n",
       "    <tr style=\"text-align: right;\">\n",
       "      <th></th>\n",
       "      <th>년월</th>\n",
       "      <th>연도</th>\n",
       "      <th>월</th>\n",
       "      <th>시도</th>\n",
       "      <th>주택가격변동률</th>\n",
       "      <th>사용량</th>\n",
       "      <th>위도</th>\n",
       "      <th>경도</th>\n",
       "    </tr>\n",
       "  </thead>\n",
       "  <tbody>\n",
       "    <tr>\n",
       "      <th>0</th>\n",
       "      <td>2010-01-01</td>\n",
       "      <td>2010</td>\n",
       "      <td>1</td>\n",
       "      <td>서울특별시</td>\n",
       "      <td>0.13</td>\n",
       "      <td>4398183</td>\n",
       "      <td>37.551638</td>\n",
       "      <td>126.993243</td>\n",
       "    </tr>\n",
       "    <tr>\n",
       "      <th>1</th>\n",
       "      <td>2010-02-01</td>\n",
       "      <td>2010</td>\n",
       "      <td>2</td>\n",
       "      <td>서울특별시</td>\n",
       "      <td>0.23</td>\n",
       "      <td>4168168</td>\n",
       "      <td>37.551638</td>\n",
       "      <td>126.993243</td>\n",
       "    </tr>\n",
       "    <tr>\n",
       "      <th>2</th>\n",
       "      <td>2010-03-01</td>\n",
       "      <td>2010</td>\n",
       "      <td>3</td>\n",
       "      <td>서울특별시</td>\n",
       "      <td>0.07</td>\n",
       "      <td>3624186</td>\n",
       "      <td>37.551638</td>\n",
       "      <td>126.993243</td>\n",
       "    </tr>\n",
       "    <tr>\n",
       "      <th>3</th>\n",
       "      <td>2010-04-01</td>\n",
       "      <td>2010</td>\n",
       "      <td>4</td>\n",
       "      <td>서울특별시</td>\n",
       "      <td>-0.02</td>\n",
       "      <td>3719082</td>\n",
       "      <td>37.551638</td>\n",
       "      <td>126.993243</td>\n",
       "    </tr>\n",
       "    <tr>\n",
       "      <th>4</th>\n",
       "      <td>2010-05-01</td>\n",
       "      <td>2010</td>\n",
       "      <td>5</td>\n",
       "      <td>서울특별시</td>\n",
       "      <td>-0.25</td>\n",
       "      <td>3426951</td>\n",
       "      <td>37.551638</td>\n",
       "      <td>126.993243</td>\n",
       "    </tr>\n",
       "    <tr>\n",
       "      <th>...</th>\n",
       "      <td>...</td>\n",
       "      <td>...</td>\n",
       "      <td>...</td>\n",
       "      <td>...</td>\n",
       "      <td>...</td>\n",
       "      <td>...</td>\n",
       "      <td>...</td>\n",
       "      <td>...</td>\n",
       "    </tr>\n",
       "    <tr>\n",
       "      <th>2443</th>\n",
       "      <td>2021-08-01</td>\n",
       "      <td>2021</td>\n",
       "      <td>8</td>\n",
       "      <td>제주특별자치도</td>\n",
       "      <td>0.96</td>\n",
       "      <td>544310</td>\n",
       "      <td>33.424967</td>\n",
       "      <td>126.778084</td>\n",
       "    </tr>\n",
       "    <tr>\n",
       "      <th>2444</th>\n",
       "      <td>2021-09-01</td>\n",
       "      <td>2021</td>\n",
       "      <td>9</td>\n",
       "      <td>제주특별자치도</td>\n",
       "      <td>0.85</td>\n",
       "      <td>495549</td>\n",
       "      <td>33.424967</td>\n",
       "      <td>126.778084</td>\n",
       "    </tr>\n",
       "    <tr>\n",
       "      <th>2445</th>\n",
       "      <td>2021-10-01</td>\n",
       "      <td>2021</td>\n",
       "      <td>10</td>\n",
       "      <td>제주특별자치도</td>\n",
       "      <td>0.75</td>\n",
       "      <td>446949</td>\n",
       "      <td>33.424967</td>\n",
       "      <td>126.778084</td>\n",
       "    </tr>\n",
       "    <tr>\n",
       "      <th>2446</th>\n",
       "      <td>2021-11-01</td>\n",
       "      <td>2021</td>\n",
       "      <td>11</td>\n",
       "      <td>제주특별자치도</td>\n",
       "      <td>0.41</td>\n",
       "      <td>438179</td>\n",
       "      <td>33.424967</td>\n",
       "      <td>126.778084</td>\n",
       "    </tr>\n",
       "    <tr>\n",
       "      <th>2447</th>\n",
       "      <td>2021-12-01</td>\n",
       "      <td>2021</td>\n",
       "      <td>12</td>\n",
       "      <td>제주특별자치도</td>\n",
       "      <td>0.21</td>\n",
       "      <td>473291</td>\n",
       "      <td>33.424967</td>\n",
       "      <td>126.778084</td>\n",
       "    </tr>\n",
       "  </tbody>\n",
       "</table>\n",
       "<p>2448 rows × 8 columns</p>\n",
       "</div>"
      ],
      "text/plain": [
       "             년월    연도   월       시도  주택가격변동률      사용량         위도          경도\n",
       "0    2010-01-01  2010   1    서울특별시     0.13  4398183  37.551638  126.993243\n",
       "1    2010-02-01  2010   2    서울특별시     0.23  4168168  37.551638  126.993243\n",
       "2    2010-03-01  2010   3    서울특별시     0.07  3624186  37.551638  126.993243\n",
       "3    2010-04-01  2010   4    서울특별시    -0.02  3719082  37.551638  126.993243\n",
       "4    2010-05-01  2010   5    서울특별시    -0.25  3426951  37.551638  126.993243\n",
       "...         ...   ...  ..      ...      ...      ...        ...         ...\n",
       "2443 2021-08-01  2021   8  제주특별자치도     0.96   544310  33.424967  126.778084\n",
       "2444 2021-09-01  2021   9  제주특별자치도     0.85   495549  33.424967  126.778084\n",
       "2445 2021-10-01  2021  10  제주특별자치도     0.75   446949  33.424967  126.778084\n",
       "2446 2021-11-01  2021  11  제주특별자치도     0.41   438179  33.424967  126.778084\n",
       "2447 2021-12-01  2021  12  제주특별자치도     0.21   473291  33.424967  126.778084\n",
       "\n",
       "[2448 rows x 8 columns]"
      ]
     },
     "execution_count": 7,
     "metadata": {},
     "output_type": "execute_result"
    }
   ],
   "source": [
    "df_1"
   ]
  },
  {
   "cell_type": "code",
   "execution_count": 8,
   "metadata": {},
   "outputs": [],
   "source": [
    "df_1.to_csv('전력량_주택_all.csv')"
   ]
  }
 ],
 "metadata": {
  "kernelspec": {
   "display_name": "gj_django_kernel",
   "language": "python",
   "name": "gj_django"
  },
  "language_info": {
   "codemirror_mode": {
    "name": "ipython",
    "version": 3
   },
   "file_extension": ".py",
   "mimetype": "text/x-python",
   "name": "python",
   "nbconvert_exporter": "python",
   "pygments_lexer": "ipython3",
   "version": "3.9.16"
  },
  "orig_nbformat": 4
 },
 "nbformat": 4,
 "nbformat_minor": 2
}
