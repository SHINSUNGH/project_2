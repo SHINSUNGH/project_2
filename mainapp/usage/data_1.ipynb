{
 "cells": [
  {
   "cell_type": "code",
   "execution_count": 1,
   "metadata": {},
   "outputs": [],
   "source": [
    "import pandas as pd\n",
    "import json\n",
    "import folium"
   ]
  },
  {
   "cell_type": "code",
   "execution_count": 8,
   "metadata": {},
   "outputs": [
    {
     "name": "stdout",
     "output_type": "stream",
     "text": [
      "<class 'pandas.core.frame.DataFrame'>\n",
      "RangeIndex: 2448 entries, 0 to 2447\n",
      "Data columns (total 5 columns):\n",
      " #   Column  Non-Null Count  Dtype \n",
      "---  ------  --------------  ----- \n",
      " 0   년월      2448 non-null   object\n",
      " 1   연도      2448 non-null   int64 \n",
      " 2   월       2448 non-null   int64 \n",
      " 3   시도      2448 non-null   object\n",
      " 4   사용량     2448 non-null   int64 \n",
      "dtypes: int64(3), object(2)\n",
      "memory usage: 95.8+ KB\n"
     ]
    }
   ],
   "source": [
    "df_1 = pd.read_csv(\"./전력 사용량 14차.csv\")\n",
    "df_1.drop(columns=['Unnamed: 0'], inplace=True)\n",
    "df_1.info()"
   ]
  },
  {
   "cell_type": "code",
   "execution_count": 9,
   "metadata": {},
   "outputs": [],
   "source": [
    "df_1['년월'] = df_1['년월'].apply(lambda x: pd.to_datetime(str(x), format='%Y_%m')).dt.strftime(\"%Y-%m\")"
   ]
  },
  {
   "cell_type": "code",
   "execution_count": 10,
   "metadata": {},
   "outputs": [
    {
     "name": "stdout",
     "output_type": "stream",
     "text": [
      "<class 'pandas.core.frame.DataFrame'>\n",
      "RangeIndex: 2448 entries, 0 to 2447\n",
      "Data columns (total 5 columns):\n",
      " #   Column  Non-Null Count  Dtype \n",
      "---  ------  --------------  ----- \n",
      " 0   년월      2448 non-null   object\n",
      " 1   연도      2448 non-null   int64 \n",
      " 2   월       2448 non-null   int64 \n",
      " 3   시도      2448 non-null   object\n",
      " 4   사용량     2448 non-null   int64 \n",
      "dtypes: int64(3), object(2)\n",
      "memory usage: 95.8+ KB\n"
     ]
    }
   ],
   "source": [
    "df_1.info()"
   ]
  },
  {
   "cell_type": "code",
   "execution_count": 11,
   "metadata": {},
   "outputs": [
    {
     "data": {
      "text/html": [
       "<div>\n",
       "<style scoped>\n",
       "    .dataframe tbody tr th:only-of-type {\n",
       "        vertical-align: middle;\n",
       "    }\n",
       "\n",
       "    .dataframe tbody tr th {\n",
       "        vertical-align: top;\n",
       "    }\n",
       "\n",
       "    .dataframe thead th {\n",
       "        text-align: right;\n",
       "    }\n",
       "</style>\n",
       "<table border=\"1\" class=\"dataframe\">\n",
       "  <thead>\n",
       "    <tr style=\"text-align: right;\">\n",
       "      <th></th>\n",
       "      <th>년월</th>\n",
       "      <th>연도</th>\n",
       "      <th>월</th>\n",
       "      <th>시도</th>\n",
       "      <th>사용량</th>\n",
       "    </tr>\n",
       "  </thead>\n",
       "  <tbody>\n",
       "    <tr>\n",
       "      <th>0</th>\n",
       "      <td>2010-01</td>\n",
       "      <td>2010</td>\n",
       "      <td>1</td>\n",
       "      <td>강원도</td>\n",
       "      <td>1480180</td>\n",
       "    </tr>\n",
       "    <tr>\n",
       "      <th>1</th>\n",
       "      <td>2010-01</td>\n",
       "      <td>2010</td>\n",
       "      <td>1</td>\n",
       "      <td>경기도</td>\n",
       "      <td>8725482</td>\n",
       "    </tr>\n",
       "    <tr>\n",
       "      <th>2</th>\n",
       "      <td>2010-01</td>\n",
       "      <td>2010</td>\n",
       "      <td>1</td>\n",
       "      <td>경상남도</td>\n",
       "      <td>2922775</td>\n",
       "    </tr>\n",
       "    <tr>\n",
       "      <th>3</th>\n",
       "      <td>2010-01</td>\n",
       "      <td>2010</td>\n",
       "      <td>1</td>\n",
       "      <td>경상북도</td>\n",
       "      <td>3743904</td>\n",
       "    </tr>\n",
       "    <tr>\n",
       "      <th>4</th>\n",
       "      <td>2010-01</td>\n",
       "      <td>2010</td>\n",
       "      <td>1</td>\n",
       "      <td>광주광역시</td>\n",
       "      <td>712924</td>\n",
       "    </tr>\n",
       "    <tr>\n",
       "      <th>...</th>\n",
       "      <td>...</td>\n",
       "      <td>...</td>\n",
       "      <td>...</td>\n",
       "      <td>...</td>\n",
       "      <td>...</td>\n",
       "    </tr>\n",
       "    <tr>\n",
       "      <th>2443</th>\n",
       "      <td>2021-12</td>\n",
       "      <td>2021</td>\n",
       "      <td>12</td>\n",
       "      <td>전라남도</td>\n",
       "      <td>2966246</td>\n",
       "    </tr>\n",
       "    <tr>\n",
       "      <th>2444</th>\n",
       "      <td>2021-12</td>\n",
       "      <td>2021</td>\n",
       "      <td>12</td>\n",
       "      <td>전라북도</td>\n",
       "      <td>1864342</td>\n",
       "    </tr>\n",
       "    <tr>\n",
       "      <th>2445</th>\n",
       "      <td>2021-12</td>\n",
       "      <td>2021</td>\n",
       "      <td>12</td>\n",
       "      <td>제주특별자치도</td>\n",
       "      <td>473291</td>\n",
       "    </tr>\n",
       "    <tr>\n",
       "      <th>2446</th>\n",
       "      <td>2021-12</td>\n",
       "      <td>2021</td>\n",
       "      <td>12</td>\n",
       "      <td>충청남도</td>\n",
       "      <td>4388778</td>\n",
       "    </tr>\n",
       "    <tr>\n",
       "      <th>2447</th>\n",
       "      <td>2021-12</td>\n",
       "      <td>2021</td>\n",
       "      <td>12</td>\n",
       "      <td>충청북도</td>\n",
       "      <td>2506864</td>\n",
       "    </tr>\n",
       "  </tbody>\n",
       "</table>\n",
       "<p>2448 rows × 5 columns</p>\n",
       "</div>"
      ],
      "text/plain": [
       "           년월    연도   월       시도      사용량\n",
       "0     2010-01  2010   1      강원도  1480180\n",
       "1     2010-01  2010   1      경기도  8725482\n",
       "2     2010-01  2010   1     경상남도  2922775\n",
       "3     2010-01  2010   1     경상북도  3743904\n",
       "4     2010-01  2010   1    광주광역시   712924\n",
       "...       ...   ...  ..      ...      ...\n",
       "2443  2021-12  2021  12     전라남도  2966246\n",
       "2444  2021-12  2021  12     전라북도  1864342\n",
       "2445  2021-12  2021  12  제주특별자치도   473291\n",
       "2446  2021-12  2021  12     충청남도  4388778\n",
       "2447  2021-12  2021  12     충청북도  2506864\n",
       "\n",
       "[2448 rows x 5 columns]"
      ]
     },
     "execution_count": 11,
     "metadata": {},
     "output_type": "execute_result"
    }
   ],
   "source": [
    "df_1"
   ]
  },
  {
   "cell_type": "code",
   "execution_count": 12,
   "metadata": {},
   "outputs": [],
   "source": [
    "# df_1.to_csv('전력 사용량 14차.csv')"
   ]
  }
 ],
 "metadata": {
  "kernelspec": {
   "display_name": "gj_django_kernel",
   "language": "python",
   "name": "gj_django"
  },
  "language_info": {
   "codemirror_mode": {
    "name": "ipython",
    "version": 3
   },
   "file_extension": ".py",
   "mimetype": "text/x-python",
   "name": "python",
   "nbconvert_exporter": "python",
   "pygments_lexer": "ipython3",
   "version": "3.9.16"
  },
  "orig_nbformat": 4
 },
 "nbformat": 4,
 "nbformat_minor": 2
}
