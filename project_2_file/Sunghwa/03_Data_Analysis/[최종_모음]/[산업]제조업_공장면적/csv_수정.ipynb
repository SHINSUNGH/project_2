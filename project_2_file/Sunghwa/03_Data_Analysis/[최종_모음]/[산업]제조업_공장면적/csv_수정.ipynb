{
 "cells": [
  {
   "cell_type": "code",
   "execution_count": 24,
   "id": "7ac983ee-cfae-45ed-8aec-3da08664ed18",
   "metadata": {},
   "outputs": [],
   "source": [
    "import pandas as pd"
   ]
  },
  {
   "cell_type": "code",
   "execution_count": 25,
   "id": "dc31aa76-a139-4a9b-ad63-e7c04242b258",
   "metadata": {},
   "outputs": [],
   "source": [
    "df1 = pd.read_csv('./시도별_공장면적.csv')\n",
    "df1 = df1.drop(columns='Unnamed: 0')"
   ]
  },
  {
   "cell_type": "code",
   "execution_count": 26,
   "id": "50f5962a-06b1-4cdf-8946-1ff8d5d3a379",
   "metadata": {},
   "outputs": [],
   "source": [
    "df2 = pd.read_csv('./2011~2022_시도별_인구수&전력사용량.csv')\n",
    "df2 = df2.drop(columns='Unnamed: 0')"
   ]
  },
  {
   "cell_type": "code",
   "execution_count": 27,
   "id": "72c1d90f-bca0-4727-8096-b8db4ce70989",
   "metadata": {},
   "outputs": [],
   "source": [
    "df3 = pd.read_csv('./마커.csv')\n",
    "df3 = df3.drop(columns='Unnamed: 0')"
   ]
  },
  {
   "cell_type": "code",
   "execution_count": 34,
   "id": "ebd3e435-069e-46f3-b577-b9331120065a",
   "metadata": {},
   "outputs": [
    {
     "data": {
      "text/plain": [
       "0       서울특별시\n",
       "1       부산광역시\n",
       "2       대구광역시\n",
       "3       인천광역시\n",
       "4       광주광역시\n",
       "5       대전광역시\n",
       "6       울산광역시\n",
       "7     세종특별자치시\n",
       "8         경기도\n",
       "9         강원도\n",
       "10       충청북도\n",
       "11       충청남도\n",
       "12       전라북도\n",
       "13       전라남도\n",
       "14       경상북도\n",
       "15       경상남도\n",
       "16    제주특별자치도\n",
       "Name: 시도별, dtype: object"
      ]
     },
     "execution_count": 34,
     "metadata": {},
     "output_type": "execute_result"
    }
   ],
   "source": [
    "df1['시도별']"
   ]
  },
  {
   "cell_type": "code",
   "execution_count": 51,
   "id": "e42e69d3-c4ea-44a5-a3e1-1f6df9f9a3c5",
   "metadata": {},
   "outputs": [],
   "source": [
    "df1.columns=['시도','공장면적']"
   ]
  },
  {
   "cell_type": "code",
   "execution_count": 55,
   "id": "5c107a16-f573-49b2-a58f-cb82939696aa",
   "metadata": {},
   "outputs": [],
   "source": [
    "df = pd.merge(df2, df1, on=['시도'])"
   ]
  },
  {
   "cell_type": "code",
   "execution_count": 58,
   "id": "84c14452-7e71-4fdf-a417-eaa5d5714560",
   "metadata": {},
   "outputs": [],
   "source": [
    "df = pd.merge(df, df3, on=['시도'])"
   ]
  },
  {
   "cell_type": "code",
   "execution_count": 60,
   "id": "3f19a9c1-2dba-4f00-ad3f-1115a0dde396",
   "metadata": {},
   "outputs": [],
   "source": [
    "df = df.drop(columns = '인구수')"
   ]
  },
  {
   "cell_type": "code",
   "execution_count": 61,
   "id": "f3d7a917-2c68-46a8-b2ec-e9adb4550970",
   "metadata": {},
   "outputs": [
    {
     "name": "stdout",
     "output_type": "stream",
     "text": [
      "<class 'pandas.core.frame.DataFrame'>\n",
      "Int64Index: 187 entries, 0 to 186\n",
      "Data columns (total 6 columns):\n",
      " #   Column  Non-Null Count  Dtype  \n",
      "---  ------  --------------  -----  \n",
      " 0   연도      187 non-null    int64  \n",
      " 1   시도      187 non-null    object \n",
      " 2   사용량     187 non-null    int64  \n",
      " 3   공장면적    187 non-null    int64  \n",
      " 4   위도      187 non-null    float64\n",
      " 5   경도      187 non-null    float64\n",
      "dtypes: float64(2), int64(3), object(1)\n",
      "memory usage: 10.2+ KB\n"
     ]
    }
   ],
   "source": [
    "df.info()"
   ]
  },
  {
   "cell_type": "code",
   "execution_count": 64,
   "id": "0c7497c7-e737-40ac-9c43-aaa4b8770584",
   "metadata": {},
   "outputs": [],
   "source": [
    "# df.to_csv('시도별_공장면적_전력_마커.csv')"
   ]
  },
  {
   "cell_type": "code",
   "execution_count": null,
   "id": "2b01a427-3203-4c1a-b1e1-d74294a23547",
   "metadata": {},
   "outputs": [],
   "source": []
  }
 ],
 "metadata": {
  "kernelspec": {
   "display_name": "Python 3 (ipykernel)",
   "language": "python",
   "name": "python3"
  },
  "language_info": {
   "codemirror_mode": {
    "name": "ipython",
    "version": 3
   },
   "file_extension": ".py",
   "mimetype": "text/x-python",
   "name": "python",
   "nbconvert_exporter": "python",
   "pygments_lexer": "ipython3",
   "version": "3.10.9"
  }
 },
 "nbformat": 4,
 "nbformat_minor": 5
}
