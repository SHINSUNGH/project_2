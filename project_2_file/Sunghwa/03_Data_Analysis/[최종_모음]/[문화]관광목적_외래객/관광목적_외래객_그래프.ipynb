{
 "cells": [
  {
   "cell_type": "code",
   "execution_count": 1,
   "metadata": {},
   "outputs": [],
   "source": [
    "### 라이브러리 호출\n",
    "\n",
    "from matplotlib import font_manager, rc\n",
    "import matplotlib\n",
    "import matplotlib.pyplot as plt\n",
    "import plotly.graph_objs as go\n",
    "import plotly.express as px\n",
    "import seaborn as sns\n",
    "import pandas as pd\n",
    "import numpy as np\n",
    "import platform\n",
    "import re"
   ]
  },
  {
   "cell_type": "code",
   "execution_count": 2,
   "metadata": {},
   "outputs": [],
   "source": [
    "### 한글 폰트 설정\n",
    "\n",
    "import platform\n",
    "from matplotlib import font_manager, rc\n",
    "\n",
    "if platform.system() == 'Windows':  # 현재 운영체제가 Windows인 경우\n",
    "    # 폰트 파일 경로를 지정\n",
    "    # 해당 폰트 파일의 이름 호출\n",
    "    font_name = font_manager.FontProperties(fname=\"c:/Windows/Fonts/malgun.ttf\"\n",
    "                                            ).get_name()\n",
    "    # 폰트 이름과 크기를 설정\n",
    "    rc('font', family=font_name, size=8)\n",
    "    plt.rcParams['axes.unicode_minus'] = False"
   ]
  },
  {
   "cell_type": "markdown",
   "metadata": {},
   "source": [
    "<hr>"
   ]
  },
  {
   "cell_type": "code",
   "execution_count": 3,
   "metadata": {},
   "outputs": [
    {
     "data": {
      "text/html": [
       "<div>\n",
       "<style scoped>\n",
       "    .dataframe tbody tr th:only-of-type {\n",
       "        vertical-align: middle;\n",
       "    }\n",
       "\n",
       "    .dataframe tbody tr th {\n",
       "        vertical-align: top;\n",
       "    }\n",
       "\n",
       "    .dataframe thead th {\n",
       "        text-align: right;\n",
       "    }\n",
       "</style>\n",
       "<table border=\"1\" class=\"dataframe\">\n",
       "  <thead>\n",
       "    <tr style=\"text-align: right;\">\n",
       "      <th></th>\n",
       "      <th>Unnamed: 0</th>\n",
       "      <th>기간</th>\n",
       "      <th>관광객</th>\n",
       "      <th>전력소비량</th>\n",
       "    </tr>\n",
       "  </thead>\n",
       "  <tbody>\n",
       "    <tr>\n",
       "      <th>0</th>\n",
       "      <td>0</td>\n",
       "      <td>2010.01 월</td>\n",
       "      <td>801636</td>\n",
       "      <td>2335102</td>\n",
       "    </tr>\n",
       "    <tr>\n",
       "      <th>1</th>\n",
       "      <td>1</td>\n",
       "      <td>2010.02 월</td>\n",
       "      <td>893050</td>\n",
       "      <td>2188707</td>\n",
       "    </tr>\n",
       "    <tr>\n",
       "      <th>2</th>\n",
       "      <td>2</td>\n",
       "      <td>2010.03 월</td>\n",
       "      <td>1090884</td>\n",
       "      <td>2091419</td>\n",
       "    </tr>\n",
       "    <tr>\n",
       "      <th>3</th>\n",
       "      <td>3</td>\n",
       "      <td>2010.04 월</td>\n",
       "      <td>1086594</td>\n",
       "      <td>2115785</td>\n",
       "    </tr>\n",
       "    <tr>\n",
       "      <th>4</th>\n",
       "      <td>4</td>\n",
       "      <td>2010.05 월</td>\n",
       "      <td>1050680</td>\n",
       "      <td>1988778</td>\n",
       "    </tr>\n",
       "    <tr>\n",
       "      <th>...</th>\n",
       "      <td>...</td>\n",
       "      <td>...</td>\n",
       "      <td>...</td>\n",
       "      <td>...</td>\n",
       "    </tr>\n",
       "    <tr>\n",
       "      <th>139</th>\n",
       "      <td>139</td>\n",
       "      <td>2021.08 월</td>\n",
       "      <td>36904</td>\n",
       "      <td>2878232</td>\n",
       "    </tr>\n",
       "    <tr>\n",
       "      <th>140</th>\n",
       "      <td>140</td>\n",
       "      <td>2021.09 월</td>\n",
       "      <td>39222</td>\n",
       "      <td>2636404</td>\n",
       "    </tr>\n",
       "    <tr>\n",
       "      <th>141</th>\n",
       "      <td>141</td>\n",
       "      <td>2021.10 월</td>\n",
       "      <td>51396</td>\n",
       "      <td>2461071</td>\n",
       "    </tr>\n",
       "    <tr>\n",
       "      <th>142</th>\n",
       "      <td>142</td>\n",
       "      <td>2021.11 월</td>\n",
       "      <td>57468</td>\n",
       "      <td>2519389</td>\n",
       "    </tr>\n",
       "    <tr>\n",
       "      <th>143</th>\n",
       "      <td>143</td>\n",
       "      <td>2021.12 월</td>\n",
       "      <td>51260</td>\n",
       "      <td>2779448</td>\n",
       "    </tr>\n",
       "  </tbody>\n",
       "</table>\n",
       "<p>144 rows × 4 columns</p>\n",
       "</div>"
      ],
      "text/plain": [
       "     Unnamed: 0         기간      관광객    전력소비량\n",
       "0             0  2010.01 월   801636  2335102\n",
       "1             1  2010.02 월   893050  2188707\n",
       "2             2  2010.03 월  1090884  2091419\n",
       "3             3  2010.04 월  1086594  2115785\n",
       "4             4  2010.05 월  1050680  1988778\n",
       "..          ...        ...      ...      ...\n",
       "139         139  2021.08 월    36904  2878232\n",
       "140         140  2021.09 월    39222  2636404\n",
       "141         141  2021.10 월    51396  2461071\n",
       "142         142  2021.11 월    57468  2519389\n",
       "143         143  2021.12 월    51260  2779448\n",
       "\n",
       "[144 rows x 4 columns]"
      ]
     },
     "execution_count": 3,
     "metadata": {},
     "output_type": "execute_result"
    }
   ],
   "source": [
    "df = pd.read_csv(\"기간_관광객_전력소비량.csv\")\n",
    "df"
   ]
  },
  {
   "attachments": {},
   "cell_type": "markdown",
   "metadata": {},
   "source": [
    "<hr>"
   ]
  },
  {
   "attachments": {},
   "cell_type": "markdown",
   "metadata": {},
   "source": [
    "<h1>평균 전력소비량 추이 VS 입국 관광객 추이 시각화</h1>"
   ]
  },
  {
   "cell_type": "code",
   "execution_count": 4,
   "metadata": {},
   "outputs": [],
   "source": [
    "plt.rcParams['font.family'] = 'D2Coding'  \n",
    "plt.rcParams['font.size'] = 15\n",
    "plt.rcParams['axes.unicode_minus']=False"
   ]
  },
  {
   "cell_type": "code",
   "execution_count": 5,
   "metadata": {},
   "outputs": [
    {
     "data": {
      "image/png": "[encoded data removed]",
      "text/plain": [
       "<Figure size 1500x600 with 2 Axes>"
      ]
     },
     "metadata": {},
     "output_type": "display_data"
    }
   ],
   "source": [
    "fig, ax1 = plt.subplots(figsize=(15,6),nrows=1,ncols=1)\n",
    "\n",
    "color_1 = 'tab:blue'\n",
    "ax1.set_title('2010~2021 평균 전력소비량 대비 입국 관광객 수', fontsize=12)\n",
    "ax1.set_xlabel('기간')\n",
    "ax1.set_ylabel('전력소비량', fontsize=12, color=color_1)\n",
    "ax1.plot(df.index, df.전력소비량 , marker='o', color=color_1,linewidth=3)\n",
    "ax1.tick_params(axis='y', labelcolor=color_1)\n",
    "\n",
    "\n",
    "ax2 = ax1.twinx() \n",
    "color_2 = 'tab:red'\n",
    "ax2.set_ylabel('입국 관광객 수', fontsize=12, color=color_2)\n",
    "ax2.plot(df.index, df.관광객, marker='o', color=color_2,linewidth=3)\n",
    "ax2.tick_params(axis='y', labelcolor=color_2)\n",
    "\n",
    "fig.tight_layout()\n",
    "plt.show()"
   ]
  },
  {
   "cell_type": "code",
   "execution_count": 6,
   "metadata": {},
   "outputs": [
    {
     "data": {
      "application/vnd.plotly.v1+json": {
       "config": {
        "plotlyServerURL": "https://plot.ly"
       },
       "data": [
        {
         "name": "전력소비량",
         "type": "scatter",
         "x": [
          "2010.01 월",
          "2010.02 월",
          "2010.03 월",
          "2010.04 월",
          "2010.05 월",
          "2010.06 월",
          "2010.07 월",
          "2010.08 월",
          "2010.09 월",
          "2010.10 월",
          "2010.11 월",
          "2010.12 월",
          "2011.01 월",
          "2011.02 월",
          "2011.03 월",
          "2011.04 월",
          "2011.05 월",
          "2011.06 월",
          "2011.07 월",
          "2011.08 월",
          "2011.09 월",
          "2011.10 월",
          "2011.11 월",
          "2011.12 월",
          "2012.01 월",
          "2012.02 월",
          "2012.03 월",
          "2012.04 월",
          "2012.05 월",
          "2012.06 월",
          "2012.07 월",
          "2012.08 월",
          "2012.09 월",
          "2012.10 월",
          "2012.11 월",
          "2012.12 월",
          "2013.01 월",
          "2013.02 월",
          "2013.03 월",
          "2013.04 월",
          "2013.05 월",
          "2013.06 월",
          "2013.07 월",
          "2013.08 월",
          "2013.09 월",
          "2013.10 월",
          "2013.11 월",
          "2013.12 월",
          "2014.01 월",
          "2014.02 월",
          "2014.03 월",
          "2014.04 월",
          "2014.05 월",
          "2014.06 월",
          "2014.07 월",
          "2014.08 월",
          "2014.09 월",
          "2014.10 월",
          "2014.11 월",
          "2014.12 월",
          "2015.01 월",
          "2015.02 월",
          "2015.03 월",
          "2015.04 월",
          "2015.05 월",
          "2015.06 월",
          "2015.07 월",
          "2015.08 월",
          "2015.09 월",
          "2015.10 월",
          "2015.11 월",
          "2015.12 월",
          "2016.01 월",
          "2016.02 월",
          "2016.03 월",
          "2016.04 월",
          "2016.05 월",
          "2016.06 월",
          "2016.07 월",
          "2016.08 월",
          "2016.09 월",
          "2016.10 월",
          "2016.11 월",
          "2016.12 월",
          "2017.01 월",
          "2017.02 월",
          "2017.03 월",
          "2017.04 월",
          "2017.05 월",
          "2017.06 월",
          "2017.07 월",
          "2017.08 월",
          "2017.09 월",
          "2017.10 월",
          "2017.11 월",
          "2017.12 월",
          "2018.01 월",
          "2018.02 월",
          "2018.03 월",
          "2018.04 월",
          "2018.05 월",
          "2018.06 월",
          "2018.07 월",
          "2018.08 월",
          "2018.09 월",
          "2018.10 월",
          "2018.11 월",
          "2018.12 월",
          "2019.01 월",
          "2019.02 월",
          "2019.03 월",
          "2019.04 월",
          "2019.05 월",
          "2019.06 월",
          "2019.07 월",
          "2019.08 월",
          "2019.09 월",
          "2019.10 월",
          "2019.11 월",
          "2019.12 월",
          "2020.01 월",
          "2020.02 월",
          "2020.03 월",
          "2020.04 월",
          "2020.05 월",
          "2020.06 월",
          "2020.07 월",
          "2020.08 월",
          "2020.09 월",
          "2020.10 월",
          "2020.11 월",
          "2020.12 월",
          "2021.01 월",
          "2021.02 월",
          "2021.03 월",
          "2021.04 월",
          "2021.05 월",
          "2021.06 월",
          "2021.07 월",
          "2021.08 월",
          "2021.09 월",
          "2021.10 월",
          "2021.11 월",
          "2021.12 월"
         ],
         "y": [
          2335102,
          2188707,
          2091419,
          2115785,
          1988778,
          1989683,
          2090517,
          2191269,
          2131954,
          1973165,
          2123175,
          2310349,
          2535239,
          2343107,
          2260801,
          2218604,
          2085554,
          2102778,
          2193162,
          2256481,
          2168203,
          2094312,
          2168674,
          2332567,
          2498215,
          2465632,
          2371065,
          2263786,
          2139747,
          2152759,
          2243203,
          2346240,
          2227550,
          2052624,
          2230360,
          2444965,
          2616024,
          2411552,
          2323783,
          2294385,
          2203518,
          2197990,
          2304198,
          2391003,
          2281235,
          2173316,
          2265934,
          2463243,
          2574024,
          2423945,
          2389529,
          2309050,
          2198683,
          2226013,
          2352646,
          2354869,
          2244793,
          2224438,
          2278167,
          2506989,
          2671958,
          2459326,
          2403517,
          2356720,
          2227999,
          2254741,
          2316382,
          2466410,
          2335534,
          2203005,
          2286089,
          2457388,
          2625318,
          2562954,
          2485010,
          2360203,
          2249152,
          2333418,
          2387664,
          2612461,
          2423759,
          2267598,
          2368027,
          2560809,
          2658644,
          2613082,
          2503443,
          2400650,
          2279052,
          2333686,
          2541676,
          2667866,
          2490357,
          2256987,
          2429005,
          2692972,
          2844805,
          2749987,
          2525663,
          2472500,
          2384145,
          2414449,
          2589997,
          2913652,
          2572296,
          2351616,
          2465007,
          2665726,
          2861434,
          2609034,
          2534627,
          2496506,
          2394588,
          2389400,
          2527422,
          2797554,
          2567605,
          2389577,
          2418327,
          2631270,
          2725112,
          2617550,
          2521799,
          2380893,
          2254565,
          2338405,
          2474574,
          2623483,
          2653576,
          2297959,
          2420360,
          2648651,
          2867974,
          2658115,
          2533786,
          2464686,
          2402486,
          2472463,
          2704223,
          2878232,
          2636404,
          2461071,
          2519389,
          2779448
         ]
        },
        {
         "name": "관광목적 외래객 수",
         "type": "scatter",
         "x": [
          "2010.01 월",
          "2010.02 월",
          "2010.03 월",
          "2010.04 월",
          "2010.05 월",
          "2010.06 월",
          "2010.07 월",
          "2010.08 월",
          "2010.09 월",
          "2010.10 월",
          "2010.11 월",
          "2010.12 월",
          "2011.01 월",
          "2011.02 월",
          "2011.03 월",
          "2011.04 월",
          "2011.05 월",
          "2011.06 월",
          "2011.07 월",
          "2011.08 월",
          "2011.09 월",
          "2011.10 월",
          "2011.11 월",
          "2011.12 월",
          "2012.01 월",
          "2012.02 월",
          "2012.03 월",
          "2012.04 월",
          "2012.05 월",
          "2012.06 월",
          "2012.07 월",
          "2012.08 월",
          "2012.09 월",
          "2012.10 월",
          "2012.11 월",
          "2012.12 월",
          "2013.01 월",
          "2013.02 월",
          "2013.03 월",
          "2013.04 월",
          "2013.05 월",
          "2013.06 월",
          "2013.07 월",
          "2013.08 월",
          "2013.09 월",
          "2013.10 월",
          "2013.11 월",
          "2013.12 월",
          "2014.01 월",
          "2014.02 월",
          "2014.03 월",
          "2014.04 월",
          "2014.05 월",
          "2014.06 월",
          "2014.07 월",
          "2014.08 월",
          "2014.09 월",
          "2014.10 월",
          "2014.11 월",
          "2014.12 월",
          "2015.01 월",
          "2015.02 월",
          "2015.03 월",
          "2015.04 월",
          "2015.05 월",
          "2015.06 월",
          "2015.07 월",
          "2015.08 월",
          "2015.09 월",
          "2015.10 월",
          "2015.11 월",
          "2015.12 월",
          "2016.01 월",
          "2016.02 월",
          "2016.03 월",
          "2016.04 월",
          "2016.05 월",
          "2016.06 월",
          "2016.07 월",
          "2016.08 월",
          "2016.09 월",
          "2016.10 월",
          "2016.11 월",
          "2016.12 월",
          "2017.01 월",
          "2017.02 월",
          "2017.03 월",
          "2017.04 월",
          "2017.05 월",
          "2017.06 월",
          "2017.07 월",
          "2017.08 월",
          "2017.09 월",
          "2017.10 월",
          "2017.11 월",
          "2017.12 월",
          "2018.01 월",
          "2018.02 월",
          "2018.03 월",
          "2018.04 월",
          "2018.05 월",
          "2018.06 월",
          "2018.07 월",
          "2018.08 월",
          "2018.09 월",
          "2018.10 월",
          "2018.11 월",
          "2018.12 월",
          "2019.01 월",
          "2019.02 월",
          "2019.03 월",
          "2019.04 월",
          "2019.05 월",
          "2019.06 월",
          "2019.07 월",
          "2019.08 월",
          "2019.09 월",
          "2019.10 월",
          "2019.11 월",
          "2019.12 월",
          "2020.01 월",
          "2020.02 월",
          "2020.03 월",
          "2020.04 월",
          "2020.05 월",
          "2020.06 월",
          "2020.07 월",
          "2020.08 월",
          "2020.09 월",
          "2020.10 월",
          "2020.11 월",
          "2020.12 월",
          "2021.01 월",
          "2021.02 월",
          "2021.03 월",
          "2021.04 월",
          "2021.05 월",
          "2021.06 월",
          "2021.07 월",
          "2021.08 월",
          "2021.09 월",
          "2021.10 월",
          "2021.11 월",
          "2021.12 월"
         ],
         "y": [
          801636,
          893050,
          1090884,
          1086594,
          1050680,
          1040948,
          1082170,
          1160414,
          1093478,
          1316488,
          1116648,
          1000778,
          799996,
          861844,
          1078556,
          1087948,
          1071544,
          1172768,
          1335812,
          1436286,
          1349940,
          1536392,
          1354508,
          1320620,
          1114016,
          1148694,
          1422652,
          1547138,
          1465776,
          1510802,
          1623826,
          1709500,
          1532710,
          1586178,
          1327364,
          1324980,
          1141516,
          1216768,
          1513596,
          1454434,
          1316824,
          1520714,
          1744872,
          1973140,
          1706548,
          1675652,
          1420956,
          1466356,
          1280670,
          1287064,
          1731854,
          1963430,
          1902564,
          1892354,
          2059810,
          2168408,
          1879456,
          2113608,
          1800340,
          1775402,
          1446510,
          1630276,
          1916986,
          2225808,
          2121460,
          1035852,
          838860,
          1461616,
          1815748,
          2152306,
          1823294,
          1802262,
          1730128,
          1699990,
          2246930,
          2428402,
          2405384,
          2554232,
          2810992,
          2625028,
          2398900,
          2607384,
          2152942,
          2205538,
          1956446,
          1905896,
          1940778,
          1709338,
          1477180,
          1550362,
          1564778,
          1634452,
          1678830,
          1799762,
          1761490,
          1851876,
          1485464,
          1580954,
          2171084,
          2182706,
          1982898,
          2111710,
          2061224,
          2201422,
          2026652,
          2538402,
          2261418,
          2224762,
          1768586,
          1815856,
          2503488,
          2765080,
          2467124,
          2475680,
          2437534,
          2503528,
          2356842,
          2807152,
          2469006,
          2494674,
          2060994,
          1007952,
          62994,
          10270,
          12222,
          19488,
          25464,
          17268,
          21238,
          22238,
          23028,
          23786,
          18070,
          17000,
          22338,
          22984,
          30762,
          35694,
          40594,
          36904,
          39222,
          51396,
          57468,
          51260
         ],
         "yaxis": "y2"
        }
       ],
       "layout": {
        "template": {
         "data": {
          "bar": [
           {
            "error_x": {
             "color": "#2a3f5f"
            },
            "error_y": {
             "color": "#2a3f5f"
            },
            "marker": {
             "line": {
              "color": "#E5ECF6",
              "width": 0.5
             },
             "pattern": {
              "fillmode": "overlay",
              "size": 10,
              "solidity": 0.2
             }
            },
            "type": "bar"
           }
          ],
          "barpolar": [
           {
            "marker": {
             "line": {
              "color": "#E5ECF6",
              "width": 0.5
             },
             "pattern": {
              "fillmode": "overlay",
              "size": 10,
              "solidity": 0.2
             }
            },
            "type": "barpolar"
           }
          ],
          "carpet": [
           {
            "aaxis": {
             "endlinecolor": "#2a3f5f",
             "gridcolor": "white",
             "linecolor": "white",
             "minorgridcolor": "white",
             "startlinecolor": "#2a3f5f"
            },
            "baxis": {
             "endlinecolor": "#2a3f5f",
             "gridcolor": "white",
             "linecolor": "white",
             "minorgridcolor": "white",
             "startlinecolor": "#2a3f5f"
            },
            "type": "carpet"
           }
          ],
          "choropleth": [
           {
            "colorbar": {
             "outlinewidth": 0,
             "ticks": ""
            },
            "type": "choropleth"
           }
          ],
          "contour": [
           {
            "colorbar": {
             "outlinewidth": 0,
             "ticks": ""
            },
            "colorscale": [
             [
              0,
              "#0d0887"
             ],
             [
              0.1111111111111111,
              "#46039f"
             ],
             [
              0.2222222222222222,
              "#7201a8"
             ],
             [
              0.3333333333333333,
              "#9c179e"
             ],
             [
              0.4444444444444444,
              "#bd3786"
             ],
             [
              0.5555555555555556,
              "#d8576b"
             ],
             [
              0.6666666666666666,
              "#ed7953"
             ],
             [
              0.7777777777777778,
              "#fb9f3a"
             ],
             [
              0.8888888888888888,
              "#fdca26"
             ],
             [
              1,
              "#f0f921"
             ]
            ],
            "type": "contour"
           }
          ],
          "contourcarpet": [
           {
            "colorbar": {
             "outlinewidth": 0,
             "ticks": ""
            },
            "type": "contourcarpet"
           }
          ],
          "heatmap": [
           {
            "colorbar": {
             "outlinewidth": 0,
             "ticks": ""
            },
            "colorscale": [
             [
              0,
              "#0d0887"
             ],
             [
              0.1111111111111111,
              "#46039f"
             ],
             [
              0.2222222222222222,
              "#7201a8"
             ],
             [
              0.3333333333333333,
              "#9c179e"
             ],
             [
              0.4444444444444444,
              "#bd3786"
             ],
             [
              0.5555555555555556,
              "#d8576b"
             ],
             [
              0.6666666666666666,
              "#ed7953"
             ],
             [
              0.7777777777777778,
              "#fb9f3a"
             ],
             [
              0.8888888888888888,
              "#fdca26"
             ],
             [
              1,
              "#f0f921"
             ]
            ],
            "type": "heatmap"
           }
          ],
          "heatmapgl": [
           {
            "colorbar": {
             "outlinewidth": 0,
             "ticks": ""
            },
            "colorscale": [
             [
              0,
              "#0d0887"
             ],
             [
              0.1111111111111111,
              "#46039f"
             ],
             [
              0.2222222222222222,
              "#7201a8"
             ],
             [
              0.3333333333333333,
              "#9c179e"
             ],
             [
              0.4444444444444444,
              "#bd3786"
             ],
             [
              0.5555555555555556,
              "#d8576b"
             ],
             [
              0.6666666666666666,
              "#ed7953"
             ],
             [
              0.7777777777777778,
              "#fb9f3a"
             ],
             [
              0.8888888888888888,
              "#fdca26"
             ],
             [
              1,
              "#f0f921"
             ]
            ],
            "type": "heatmapgl"
           }
          ],
          "histogram": [
           {
            "marker": {
             "pattern": {
              "fillmode": "overlay",
              "size": 10,
              "solidity": 0.2
             }
            },
            "type": "histogram"
           }
          ],
          "histogram2d": [
           {
            "colorbar": {
             "outlinewidth": 0,
             "ticks": ""
            },
            "colorscale": [
             [
              0,
              "#0d0887"
             ],
             [
              0.1111111111111111,
              "#46039f"
             ],
             [
              0.2222222222222222,
              "#7201a8"
             ],
             [
              0.3333333333333333,
              "#9c179e"
             ],
             [
              0.4444444444444444,
              "#bd3786"
             ],
             [
              0.5555555555555556,
              "#d8576b"
             ],
             [
              0.6666666666666666,
              "#ed7953"
             ],
             [
              0.7777777777777778,
              "#fb9f3a"
             ],
             [
              0.8888888888888888,
              "#fdca26"
             ],
             [
              1,
              "#f0f921"
             ]
            ],
            "type": "histogram2d"
           }
          ],
          "histogram2dcontour": [
           {
            "colorbar": {
             "outlinewidth": 0,
             "ticks": ""
            },
            "colorscale": [
             [
              0,
              "#0d0887"
             ],
             [
              0.1111111111111111,
              "#46039f"
             ],
             [
              0.2222222222222222,
              "#7201a8"
             ],
             [
              0.3333333333333333,
              "#9c179e"
             ],
             [
              0.4444444444444444,
              "#bd3786"
             ],
             [
              0.5555555555555556,
              "#d8576b"
             ],
             [
              0.6666666666666666,
              "#ed7953"
             ],
             [
              0.7777777777777778,
              "#fb9f3a"
             ],
             [
              0.8888888888888888,
              "#fdca26"
             ],
             [
              1,
              "#f0f921"
             ]
            ],
            "type": "histogram2dcontour"
           }
          ],
          "mesh3d": [
           {
            "colorbar": {
             "outlinewidth": 0,
             "ticks": ""
            },
            "type": "mesh3d"
           }
          ],
          "parcoords": [
           {
            "line": {
             "colorbar": {
              "outlinewidth": 0,
              "ticks": ""
             }
            },
            "type": "parcoords"
           }
          ],
          "pie": [
           {
            "automargin": true,
            "type": "pie"
           }
          ],
          "scatter": [
           {
            "fillpattern": {
             "fillmode": "overlay",
             "size": 10,
             "solidity": 0.2
            },
            "type": "scatter"
           }
          ],
          "scatter3d": [
           {
            "line": {
             "colorbar": {
              "outlinewidth": 0,
              "ticks": ""
             }
            },
            "marker": {
             "colorbar": {
              "outlinewidth": 0,
              "ticks": ""
             }
            },
            "type": "scatter3d"
           }
          ],
          "scattercarpet": [
           {
            "marker": {
             "colorbar": {
              "outlinewidth": 0,
              "ticks": ""
             }
            },
            "type": "scattercarpet"
           }
          ],
          "scattergeo": [
           {
            "marker": {
             "colorbar": {
              "outlinewidth": 0,
              "ticks": ""
             }
            },
            "type": "scattergeo"
           }
          ],
          "scattergl": [
           {
            "marker": {
             "colorbar": {
              "outlinewidth": 0,
              "ticks": ""
             }
            },
            "type": "scattergl"
           }
          ],
          "scattermapbox": [
           {
            "marker": {
             "colorbar": {
              "outlinewidth": 0,
              "ticks": ""
             }
            },
            "type": "scattermapbox"
           }
          ],
          "scatterpolar": [
           {
            "marker": {
             "colorbar": {
              "outlinewidth": 0,
              "ticks": ""
             }
            },
            "type": "scatterpolar"
           }
          ],
          "scatterpolargl": [
           {
            "marker": {
             "colorbar": {
              "outlinewidth": 0,
              "ticks": ""
             }
            },
            "type": "scatterpolargl"
           }
          ],
          "scatterternary": [
           {
            "marker": {
             "colorbar": {
              "outlinewidth": 0,
              "ticks": ""
             }
            },
            "type": "scatterternary"
           }
          ],
          "surface": [
           {
            "colorbar": {
             "outlinewidth": 0,
             "ticks": ""
            },
            "colorscale": [
             [
              0,
              "#0d0887"
             ],
             [
              0.1111111111111111,
              "#46039f"
             ],
             [
              0.2222222222222222,
              "#7201a8"
             ],
             [
              0.3333333333333333,
              "#9c179e"
             ],
             [
              0.4444444444444444,
              "#bd3786"
             ],
             [
              0.5555555555555556,
              "#d8576b"
             ],
             [
              0.6666666666666666,
              "#ed7953"
             ],
             [
              0.7777777777777778,
              "#fb9f3a"
             ],
             [
              0.8888888888888888,
              "#fdca26"
             ],
             [
              1,
              "#f0f921"
             ]
            ],
            "type": "surface"
           }
          ],
          "table": [
           {
            "cells": {
             "fill": {
              "color": "#EBF0F8"
             },
             "line": {
              "color": "white"
             }
            },
            "header": {
             "fill": {
              "color": "#C8D4E3"
             },
             "line": {
              "color": "white"
             }
            },
            "type": "table"
           }
          ]
         },
         "layout": {
          "annotationdefaults": {
           "arrowcolor": "#2a3f5f",
           "arrowhead": 0,
           "arrowwidth": 1
          },
          "autotypenumbers": "strict",
          "coloraxis": {
           "colorbar": {
            "outlinewidth": 0,
            "ticks": ""
           }
          },
          "colorscale": {
           "diverging": [
            [
             0,
             "#8e0152"
            ],
            [
             0.1,
             "#c51b7d"
            ],
            [
             0.2,
             "#de77ae"
            ],
            [
             0.3,
             "#f1b6da"
            ],
            [
             0.4,
             "#fde0ef"
            ],
            [
             0.5,
             "#f7f7f7"
            ],
            [
             0.6,
             "#e6f5d0"
            ],
            [
             0.7,
             "#b8e186"
            ],
            [
             0.8,
             "#7fbc41"
            ],
            [
             0.9,
             "#4d9221"
            ],
            [
             1,
             "#276419"
            ]
           ],
           "sequential": [
            [
             0,
             "#0d0887"
            ],
            [
             0.1111111111111111,
             "#46039f"
            ],
            [
             0.2222222222222222,
             "#7201a8"
            ],
            [
             0.3333333333333333,
             "#9c179e"
            ],
            [
             0.4444444444444444,
             "#bd3786"
            ],
            [
             0.5555555555555556,
             "#d8576b"
            ],
            [
             0.6666666666666666,
             "#ed7953"
            ],
            [
             0.7777777777777778,
             "#fb9f3a"
            ],
            [
             0.8888888888888888,
             "#fdca26"
            ],
            [
             1,
             "#f0f921"
            ]
           ],
           "sequentialminus": [
            [
             0,
             "#0d0887"
            ],
            [
             0.1111111111111111,
             "#46039f"
            ],
            [
             0.2222222222222222,
             "#7201a8"
            ],
            [
             0.3333333333333333,
             "#9c179e"
            ],
            [
             0.4444444444444444,
             "#bd3786"
            ],
            [
             0.5555555555555556,
             "#d8576b"
            ],
            [
             0.6666666666666666,
             "#ed7953"
            ],
            [
             0.7777777777777778,
             "#fb9f3a"
            ],
            [
             0.8888888888888888,
             "#fdca26"
            ],
            [
             1,
             "#f0f921"
            ]
           ]
          },
          "colorway": [
           "#636efa",
           "#EF553B",
           "#00cc96",
           "#ab63fa",
           "#FFA15A",
           "#19d3f3",
           "#FF6692",
           "#B6E880",
           "#FF97FF",
           "#FECB52"
          ],
          "font": {
           "color": "#2a3f5f"
          },
          "geo": {
           "bgcolor": "white",
           "lakecolor": "white",
           "landcolor": "#E5ECF6",
           "showlakes": true,
           "showland": true,
           "subunitcolor": "white"
          },
          "hoverlabel": {
           "align": "left"
          },
          "hovermode": "closest",
          "mapbox": {
           "style": "light"
          },
          "paper_bgcolor": "white",
          "plot_bgcolor": "#E5ECF6",
          "polar": {
           "angularaxis": {
            "gridcolor": "white",
            "linecolor": "white",
            "ticks": ""
           },
           "bgcolor": "#E5ECF6",
           "radialaxis": {
            "gridcolor": "white",
            "linecolor": "white",
            "ticks": ""
           }
          },
          "scene": {
           "xaxis": {
            "backgroundcolor": "#E5ECF6",
            "gridcolor": "white",
            "gridwidth": 2,
            "linecolor": "white",
            "showbackground": true,
            "ticks": "",
            "zerolinecolor": "white"
           },
           "yaxis": {
            "backgroundcolor": "#E5ECF6",
            "gridcolor": "white",
            "gridwidth": 2,
            "linecolor": "white",
            "showbackground": true,
            "ticks": "",
            "zerolinecolor": "white"
           },
           "zaxis": {
            "backgroundcolor": "#E5ECF6",
            "gridcolor": "white",
            "gridwidth": 2,
            "linecolor": "white",
            "showbackground": true,
            "ticks": "",
            "zerolinecolor": "white"
           }
          },
          "shapedefaults": {
           "line": {
            "color": "#2a3f5f"
           }
          },
          "ternary": {
           "aaxis": {
            "gridcolor": "white",
            "linecolor": "white",
            "ticks": ""
           },
           "baxis": {
            "gridcolor": "white",
            "linecolor": "white",
            "ticks": ""
           },
           "bgcolor": "#E5ECF6",
           "caxis": {
            "gridcolor": "white",
            "linecolor": "white",
            "ticks": ""
           }
          },
          "title": {
           "x": 0.05
          },
          "xaxis": {
           "automargin": true,
           "gridcolor": "white",
           "linecolor": "white",
           "ticks": "",
           "title": {
            "standoff": 15
           },
           "zerolinecolor": "white",
           "zerolinewidth": 2
          },
          "yaxis": {
           "automargin": true,
           "gridcolor": "white",
           "linecolor": "white",
           "ticks": "",
           "title": {
            "standoff": 15
           },
           "zerolinecolor": "white",
           "zerolinewidth": 2
          }
         }
        },
        "title": {
         "text": "전력소비량 대비 관광목적 외래객 수"
        },
        "yaxis": {
         "title": {
          "text": "전력소비량"
         }
        },
        "yaxis2": {
         "overlaying": "y",
         "side": "right",
         "title": {
          "text": "관광목적 외래객 수"
         }
        }
       }
      }
     },
     "metadata": {},
     "output_type": "display_data"
    }
   ],
   "source": [
    "\n",
    "trace1 = go.Scatter(\n",
    "    x = df['기간'],\n",
    "    y = df['전력소비량'],\n",
    "    name='전력소비량'\n",
    ")\n",
    "\n",
    "# 두번째 x축을 기준으로 그래프 생성\n",
    "trace2 = go.Scatter(\n",
    "    x = df['기간'],\n",
    "    y = df['관광객'],\n",
    "    name='관광목적 외래객 수',\n",
    "    yaxis='y2'\n",
    ")\n",
    "\n",
    "# 하나의 x축과 두 개의 y축으로 레이아웃 생성\n",
    "layout = go.Layout(\n",
    "    title='전력소비량 대비 관광목적 외래객 수',    \n",
    "    yaxis=dict(\n",
    "        title='전력소비량'\n",
    "    ),\n",
    "    yaxis2=dict(\n",
    "        title='관광목적 외래객 수',\n",
    "        overlaying='y',\n",
    "        side='right'\n",
    "    )\n",
    ")\n",
    "\n",
    "# 레이아웃 조합 후 그래프 작성\n",
    "fig = go.Figure(data=[trace1, trace2], layout=layout)\n",
    "\n",
    "# 그래프 표시\n",
    "fig.show()"
   ]
  },
  {
   "cell_type": "markdown",
   "metadata": {},
   "source": [
    "위 그래프에서 입국 관광객 수가 급격하게 줄어드는 시점 = 메르스 또는 코로나19 판데믹이 시작된 시점과 일치<br>\n",
    "But, 이 그래프만으로는 입국 관광객 수가 국내 전체 전력소비량에 '절대적인' 영향을 미친다고 보기는 어려울 듯 함."
   ]
  }
 ],
 "metadata": {
  "kernelspec": {
   "display_name": "sprint_kernel",
   "language": "python",
   "name": "sprint2"
  },
  "language_info": {
   "codemirror_mode": {
    "name": "ipython",
    "version": 3
   },
   "file_extension": ".py",
   "mimetype": "text/x-python",
   "name": "python",
   "nbconvert_exporter": "python",
   "pygments_lexer": "ipython3",
   "version": "3.10.9"
  },
  "orig_nbformat": 4
 },
 "nbformat": 4,
 "nbformat_minor": 2
}
