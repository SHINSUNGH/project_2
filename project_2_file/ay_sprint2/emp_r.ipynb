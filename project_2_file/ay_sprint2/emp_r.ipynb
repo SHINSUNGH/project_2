{
 "cells": [
  {
   "cell_type": "code",
   "execution_count": 1,
   "id": "2006a5c2-9555-4c82-97dd-ac80fc617947",
   "metadata": {},
   "outputs": [],
   "source": [
    "import pandas as pd"
   ]
  },
  {
   "cell_type": "code",
   "execution_count": 2,
   "id": "2c748250-b773-47b6-9132-7029895ad3a2",
   "metadata": {},
   "outputs": [],
   "source": [
    "emp_r = pd.read_csv(\"data/EmploymentRate/시도별_고용률(2010~2022,월별).csv\",encoding='cp949')"
   ]
  },
  {
   "cell_type": "code",
   "execution_count": 6,
   "id": "357a10e4-fb1e-499e-a0cb-62639d4a8a12",
   "metadata": {},
   "outputs": [],
   "source": [
    "df = emp_r"
   ]
  },
  {
   "cell_type": "code",
   "execution_count": 24,
   "id": "52398e82-37b3-4bc3-adc1-c5d45732b7c8",
   "metadata": {},
   "outputs": [
    {
     "data": {
      "text/html": [
       "<div>\n",
       "<style scoped>\n",
       "    .dataframe tbody tr th:only-of-type {\n",
       "        vertical-align: middle;\n",
       "    }\n",
       "\n",
       "    .dataframe tbody tr th {\n",
       "        vertical-align: top;\n",
       "    }\n",
       "\n",
       "    .dataframe thead th {\n",
       "        text-align: right;\n",
       "    }\n",
       "</style>\n",
       "<table border=\"1\" class=\"dataframe\">\n",
       "  <thead>\n",
       "    <tr style=\"text-align: right;\">\n",
       "      <th></th>\n",
       "      <th>시도별</th>\n",
       "      <th>성별</th>\n",
       "      <th>항목</th>\n",
       "      <th>단위</th>\n",
       "      <th>2010.01 월</th>\n",
       "      <th>2010.02 월</th>\n",
       "      <th>2010.03 월</th>\n",
       "      <th>2010.04 월</th>\n",
       "      <th>2010.05 월</th>\n",
       "      <th>2010.06 월</th>\n",
       "      <th>...</th>\n",
       "      <th>2022.04 월</th>\n",
       "      <th>2022.05 월</th>\n",
       "      <th>2022.06 월</th>\n",
       "      <th>2022.07 월</th>\n",
       "      <th>2022.08 월</th>\n",
       "      <th>2022.09 월</th>\n",
       "      <th>2022.10 월</th>\n",
       "      <th>2022.11 월</th>\n",
       "      <th>2022.12 월</th>\n",
       "      <th>Unnamed: 160</th>\n",
       "    </tr>\n",
       "  </thead>\n",
       "  <tbody>\n",
       "    <tr>\n",
       "      <th>0</th>\n",
       "      <td>계</td>\n",
       "      <td>계</td>\n",
       "      <td>15세이상인구[천명]</td>\n",
       "      <td>천명</td>\n",
       "      <td>40594.6</td>\n",
       "      <td>40630.2</td>\n",
       "      <td>40667.3</td>\n",
       "      <td>40703.2</td>\n",
       "      <td>40747.7</td>\n",
       "      <td>40788.1</td>\n",
       "      <td>...</td>\n",
       "      <td>45233.4</td>\n",
       "      <td>45245.1</td>\n",
       "      <td>45248.5</td>\n",
       "      <td>45257.6</td>\n",
       "      <td>45270.4</td>\n",
       "      <td>45283.5</td>\n",
       "      <td>45302.1</td>\n",
       "      <td>45317.6</td>\n",
       "      <td>45331.7</td>\n",
       "      <td>NaN</td>\n",
       "    </tr>\n",
       "    <tr>\n",
       "      <th>1</th>\n",
       "      <td>계</td>\n",
       "      <td>계</td>\n",
       "      <td>경제활동인구[천명]</td>\n",
       "      <td>천명</td>\n",
       "      <td>24258.3</td>\n",
       "      <td>24217.0</td>\n",
       "      <td>24567.1</td>\n",
       "      <td>25052.5</td>\n",
       "      <td>25292.7</td>\n",
       "      <td>25352.3</td>\n",
       "      <td>...</td>\n",
       "      <td>28942.1</td>\n",
       "      <td>29373.9</td>\n",
       "      <td>29366.1</td>\n",
       "      <td>29311.0</td>\n",
       "      <td>29024.5</td>\n",
       "      <td>29092.7</td>\n",
       "      <td>29110.0</td>\n",
       "      <td>29086.5</td>\n",
       "      <td>28673.9</td>\n",
       "      <td>NaN</td>\n",
       "    </tr>\n",
       "    <tr>\n",
       "      <th>2</th>\n",
       "      <td>계</td>\n",
       "      <td>계</td>\n",
       "      <td>비경제활동인구[천명]</td>\n",
       "      <td>천명</td>\n",
       "      <td>16336.3</td>\n",
       "      <td>16413.2</td>\n",
       "      <td>16100.2</td>\n",
       "      <td>15650.7</td>\n",
       "      <td>15455.0</td>\n",
       "      <td>15435.8</td>\n",
       "      <td>...</td>\n",
       "      <td>16291.3</td>\n",
       "      <td>15871.3</td>\n",
       "      <td>15882.3</td>\n",
       "      <td>15946.6</td>\n",
       "      <td>16245.9</td>\n",
       "      <td>16190.8</td>\n",
       "      <td>16192.0</td>\n",
       "      <td>16231.1</td>\n",
       "      <td>16657.8</td>\n",
       "      <td>NaN</td>\n",
       "    </tr>\n",
       "    <tr>\n",
       "      <th>3</th>\n",
       "      <td>계</td>\n",
       "      <td>계</td>\n",
       "      <td>경제활동참가율[%]</td>\n",
       "      <td>%</td>\n",
       "      <td>59.8</td>\n",
       "      <td>59.6</td>\n",
       "      <td>60.4</td>\n",
       "      <td>61.5</td>\n",
       "      <td>62.1</td>\n",
       "      <td>62.2</td>\n",
       "      <td>...</td>\n",
       "      <td>64.0</td>\n",
       "      <td>64.9</td>\n",
       "      <td>64.9</td>\n",
       "      <td>64.8</td>\n",
       "      <td>64.1</td>\n",
       "      <td>64.2</td>\n",
       "      <td>64.3</td>\n",
       "      <td>64.2</td>\n",
       "      <td>63.3</td>\n",
       "      <td>NaN</td>\n",
       "    </tr>\n",
       "    <tr>\n",
       "      <th>4</th>\n",
       "      <td>계</td>\n",
       "      <td>계</td>\n",
       "      <td>실업률[%]</td>\n",
       "      <td>%</td>\n",
       "      <td>5.0</td>\n",
       "      <td>4.8</td>\n",
       "      <td>4.1</td>\n",
       "      <td>3.7</td>\n",
       "      <td>3.2</td>\n",
       "      <td>3.5</td>\n",
       "      <td>...</td>\n",
       "      <td>3.0</td>\n",
       "      <td>3.0</td>\n",
       "      <td>3.0</td>\n",
       "      <td>2.9</td>\n",
       "      <td>2.1</td>\n",
       "      <td>2.4</td>\n",
       "      <td>2.4</td>\n",
       "      <td>2.3</td>\n",
       "      <td>3.0</td>\n",
       "      <td>NaN</td>\n",
       "    </tr>\n",
       "  </tbody>\n",
       "</table>\n",
       "<p>5 rows × 161 columns</p>\n",
       "</div>"
      ],
      "text/plain": [
       "  시도별 성별           항목  단위  2010.01 월  2010.02 월  2010.03 월  2010.04 월  \\\n",
       "0   계  계  15세이상인구[천명]  천명    40594.6    40630.2    40667.3    40703.2   \n",
       "1   계  계   경제활동인구[천명]  천명    24258.3    24217.0    24567.1    25052.5   \n",
       "2   계  계  비경제활동인구[천명]  천명    16336.3    16413.2    16100.2    15650.7   \n",
       "3   계  계   경제활동참가율[%]   %       59.8       59.6       60.4       61.5   \n",
       "4   계  계       실업률[%]   %        5.0        4.8        4.1        3.7   \n",
       "\n",
       "   2010.05 월  2010.06 월  ...  2022.04 월  2022.05 월  2022.06 월  2022.07 월  \\\n",
       "0    40747.7    40788.1  ...    45233.4    45245.1    45248.5    45257.6   \n",
       "1    25292.7    25352.3  ...    28942.1    29373.9    29366.1    29311.0   \n",
       "2    15455.0    15435.8  ...    16291.3    15871.3    15882.3    15946.6   \n",
       "3       62.1       62.2  ...       64.0       64.9       64.9       64.8   \n",
       "4        3.2        3.5  ...        3.0        3.0        3.0        2.9   \n",
       "\n",
       "   2022.08 월  2022.09 월  2022.10 월  2022.11 월  2022.12 월  Unnamed: 160  \n",
       "0    45270.4    45283.5    45302.1    45317.6    45331.7           NaN  \n",
       "1    29024.5    29092.7    29110.0    29086.5    28673.9           NaN  \n",
       "2    16245.9    16190.8    16192.0    16231.1    16657.8           NaN  \n",
       "3       64.1       64.2       64.3       64.2       63.3           NaN  \n",
       "4        2.1        2.4        2.4        2.3        3.0           NaN  \n",
       "\n",
       "[5 rows x 161 columns]"
      ]
     },
     "execution_count": 24,
     "metadata": {},
     "output_type": "execute_result"
    }
   ],
   "source": [
    "df.head()"
   ]
  },
  {
   "cell_type": "code",
   "execution_count": 19,
   "id": "36e80892-74c2-4054-ba78-f49e72b756e9",
   "metadata": {},
   "outputs": [
    {
     "data": {
      "text/plain": [
       "18"
      ]
     },
     "execution_count": 19,
     "metadata": {},
     "output_type": "execute_result"
    }
   ],
   "source": [
    "df['시도별'].nunique()"
   ]
  },
  {
   "cell_type": "code",
   "execution_count": 18,
   "id": "b63d710d-1247-46f4-9017-36885e25dad2",
   "metadata": {},
   "outputs": [
    {
     "data": {
      "text/plain": [
       "array(['계', '서울특별시', '부산광역시', '대구광역시', '인천광역시', '광주광역시', '대전광역시', '울산광역시',\n",
       "       '세종특별자치시', '경기도', '강원도', '충청북도', '충청남도', '전라북도', '전라남도', '경상북도',\n",
       "       '경상남도', '제주도'], dtype=object)"
      ]
     },
     "execution_count": 18,
     "metadata": {},
     "output_type": "execute_result"
    }
   ],
   "source": [
    "df['시도별'].unique()"
   ]
  },
  {
   "cell_type": "code",
   "execution_count": 16,
   "id": "c9437745-c782-4191-af6d-619a008ed495",
   "metadata": {},
   "outputs": [],
   "source": [
    "col = ['전국',\n",
    " '서울특별시',\n",
    " '부산광역시',\n",
    " '대구광역시',\n",
    " '인천광역시',\n",
    " '광주광역시',\n",
    " '대전광역시',\n",
    " '울산광역시',\n",
    " '세종특별자치시',\n",
    " '경기도',\n",
    " '강원도',\n",
    " '충청북도',\n",
    " '충청남도',\n",
    " '전라북도',\n",
    " '전라남도',\n",
    " '경상북도',\n",
    " '경상남도',\n",
    " '제주특별자치도']"
   ]
  },
  {
   "cell_type": "code",
   "execution_count": 20,
   "id": "2dad89a8-be4b-4c0a-a945-b5fe1658aeb5",
   "metadata": {},
   "outputs": [
    {
     "data": {
      "text/plain": [
       "18"
      ]
     },
     "execution_count": 20,
     "metadata": {},
     "output_type": "execute_result"
    }
   ],
   "source": [
    "len(col)"
   ]
  },
  {
   "cell_type": "code",
   "execution_count": 27,
   "id": "ef50578b-0e26-47d0-9609-cbd34cb73332",
   "metadata": {},
   "outputs": [
    {
     "data": {
      "text/plain": [
       "array(['계', '남자', '여자'], dtype=object)"
      ]
     },
     "execution_count": 27,
     "metadata": {},
     "output_type": "execute_result"
    }
   ],
   "source": [
    "df['성별'].unique()"
   ]
  },
  {
   "cell_type": "code",
   "execution_count": 42,
   "id": "14b0afa3-1be1-40c1-9625-74f92e87e299",
   "metadata": {},
   "outputs": [
    {
     "data": {
      "text/plain": [
       "array(['15세이상인구[천명]', '경제활동인구[천명]', '비경제활동인구[천명]', '경제활동참가율[%]', '실업률[%]',\n",
       "       '고용률[%]', '15~64세 고용률[%]'], dtype=object)"
      ]
     },
     "execution_count": 42,
     "metadata": {},
     "output_type": "execute_result"
    }
   ],
   "source": [
    "df['항목'].unique()"
   ]
  },
  {
   "cell_type": "code",
   "execution_count": 41,
   "id": "bbf654ef-9666-42d9-ab20-2cdb4b117c52",
   "metadata": {},
   "outputs": [],
   "source": [
    "df = df[df['성별'] == '계']"
   ]
  },
  {
   "cell_type": "code",
   "execution_count": 44,
   "id": "d4a55f6f-9f07-496d-8b82-6f8d6945168c",
   "metadata": {},
   "outputs": [],
   "source": [
    "df = df[df['항목'] == '고용률[%]']"
   ]
  },
  {
   "cell_type": "code",
   "execution_count": 48,
   "id": "d5aed041-c778-432b-af96-1a4832051381",
   "metadata": {},
   "outputs": [],
   "source": [
    "df = df.drop(columns=['시도별','단위','성별','항목','Unnamed: 160'])"
   ]
  },
  {
   "cell_type": "code",
   "execution_count": 55,
   "id": "d66adab5-c6fe-4447-a1b8-674ea2f1092e",
   "metadata": {},
   "outputs": [
    {
     "data": {
      "text/plain": [
       "['2010.01 월',\n",
       " '2010.02 월',\n",
       " '2010.03 월',\n",
       " '2010.04 월',\n",
       " '2010.05 월',\n",
       " '2010.06 월',\n",
       " '2010.07 월',\n",
       " '2010.08 월',\n",
       " '2010.09 월',\n",
       " '2010.10 월',\n",
       " '2010.11 월',\n",
       " '2010.12 월',\n",
       " '2011.01 월',\n",
       " '2011.02 월',\n",
       " '2011.03 월',\n",
       " '2011.04 월',\n",
       " '2011.05 월',\n",
       " '2011.06 월',\n",
       " '2011.07 월',\n",
       " '2011.08 월',\n",
       " '2011.09 월',\n",
       " '2011.10 월',\n",
       " '2011.11 월',\n",
       " '2011.12 월',\n",
       " '2012.01 월',\n",
       " '2012.02 월',\n",
       " '2012.03 월',\n",
       " '2012.04 월',\n",
       " '2012.05 월',\n",
       " '2012.06 월',\n",
       " '2012.07 월',\n",
       " '2012.08 월',\n",
       " '2012.09 월',\n",
       " '2012.10 월',\n",
       " '2012.11 월',\n",
       " '2012.12 월',\n",
       " '2013.01 월',\n",
       " '2013.02 월',\n",
       " '2013.03 월',\n",
       " '2013.04 월',\n",
       " '2013.05 월',\n",
       " '2013.06 월',\n",
       " '2013.07 월',\n",
       " '2013.08 월',\n",
       " '2013.09 월',\n",
       " '2013.10 월',\n",
       " '2013.11 월',\n",
       " '2013.12 월',\n",
       " '2014.01 월',\n",
       " '2014.02 월',\n",
       " '2014.03 월',\n",
       " '2014.04 월',\n",
       " '2014.05 월',\n",
       " '2014.06 월',\n",
       " '2014.07 월',\n",
       " '2014.08 월',\n",
       " '2014.09 월',\n",
       " '2014.10 월',\n",
       " '2014.11 월',\n",
       " '2014.12 월',\n",
       " '2015.01 월',\n",
       " '2015.02 월',\n",
       " '2015.03 월',\n",
       " '2015.04 월',\n",
       " '2015.05 월',\n",
       " '2015.06 월',\n",
       " '2015.07 월',\n",
       " '2015.08 월',\n",
       " '2015.09 월',\n",
       " '2015.10 월',\n",
       " '2015.11 월',\n",
       " '2015.12 월',\n",
       " '2016.01 월',\n",
       " '2016.02 월',\n",
       " '2016.03 월',\n",
       " '2016.04 월',\n",
       " '2016.05 월',\n",
       " '2016.06 월',\n",
       " '2016.07 월',\n",
       " '2016.08 월',\n",
       " '2016.09 월',\n",
       " '2016.10 월',\n",
       " '2016.11 월',\n",
       " '2016.12 월',\n",
       " '2017.01 월',\n",
       " '2017.02 월',\n",
       " '2017.03 월',\n",
       " '2017.04 월',\n",
       " '2017.05 월',\n",
       " '2017.06 월',\n",
       " '2017.07 월',\n",
       " '2017.08 월',\n",
       " '2017.09 월',\n",
       " '2017.10 월',\n",
       " '2017.11 월',\n",
       " '2017.12 월',\n",
       " '2018.01 월',\n",
       " '2018.02 월',\n",
       " '2018.03 월',\n",
       " '2018.04 월',\n",
       " '2018.05 월',\n",
       " '2018.06 월',\n",
       " '2018.07 월',\n",
       " '2018.08 월',\n",
       " '2018.09 월',\n",
       " '2018.10 월',\n",
       " '2018.11 월',\n",
       " '2018.12 월',\n",
       " '2019.01 월',\n",
       " '2019.02 월',\n",
       " '2019.03 월',\n",
       " '2019.04 월',\n",
       " '2019.05 월',\n",
       " '2019.06 월',\n",
       " '2019.07 월',\n",
       " '2019.08 월',\n",
       " '2019.09 월',\n",
       " '2019.10 월',\n",
       " '2019.11 월',\n",
       " '2019.12 월',\n",
       " '2020.01 월',\n",
       " '2020.02 월',\n",
       " '2020.03 월',\n",
       " '2020.04 월',\n",
       " '2020.05 월',\n",
       " '2020.06 월',\n",
       " '2020.07 월',\n",
       " '2020.08 월',\n",
       " '2020.09 월',\n",
       " '2020.10 월',\n",
       " '2020.11 월',\n",
       " '2020.12 월',\n",
       " '2021.01 월',\n",
       " '2021.02 월',\n",
       " '2021.03 월',\n",
       " '2021.04 월',\n",
       " '2021.05 월',\n",
       " '2021.06 월',\n",
       " '2021.07 월',\n",
       " '2021.08 월',\n",
       " '2021.09 월',\n",
       " '2021.10 월',\n",
       " '2021.11 월',\n",
       " '2021.12 월',\n",
       " '2022.01 월',\n",
       " '2022.02 월',\n",
       " '2022.03 월',\n",
       " '2022.04 월',\n",
       " '2022.05 월',\n",
       " '2022.06 월',\n",
       " '2022.07 월',\n",
       " '2022.08 월',\n",
       " '2022.09 월',\n",
       " '2022.10 월',\n",
       " '2022.11 월',\n",
       " '2022.12 월']"
      ]
     },
     "execution_count": 55,
     "metadata": {},
     "output_type": "execute_result"
    }
   ],
   "source": [
    "df.columns.to_list()"
   ]
  },
  {
   "cell_type": "code",
   "execution_count": 54,
   "id": "2fe4cd95-ccf8-480f-af2a-5202c594ea5f",
   "metadata": {},
   "outputs": [
    {
     "ename": "AttributeError",
     "evalue": "'list' object has no attribute 'replace'",
     "output_type": "error",
     "traceback": [
      "\u001b[1;31m---------------------------------------------------------------------------\u001b[0m",
      "\u001b[1;31mAttributeError\u001b[0m                            Traceback (most recent call last)",
      "Cell \u001b[1;32mIn[54], line 1\u001b[0m\n\u001b[1;32m----> 1\u001b[0m \u001b[43mcol2\u001b[49m\u001b[38;5;241;43m.\u001b[39;49m\u001b[43mreplace\u001b[49m(\u001b[38;5;124m'\u001b[39m\u001b[38;5;124m월\u001b[39m\u001b[38;5;124m'\u001b[39m,\u001b[38;5;124m'\u001b[39m\u001b[38;5;124m'\u001b[39m)\n",
      "\u001b[1;31mAttributeError\u001b[0m: 'list' object has no attribute 'replace'"
     ]
    }
   ],
   "source": [
    "col2.replace('월','')"
   ]
  },
  {
   "cell_type": "code",
   "execution_count": null,
   "id": "2d780062-08d5-4449-a80e-05657cb2cdd5",
   "metadata": {},
   "outputs": [],
   "source": []
  }
 ],
 "metadata": {
  "kernelspec": {
   "display_name": "Python 3 (ipykernel)",
   "language": "python",
   "name": "python3"
  },
  "language_info": {
   "codemirror_mode": {
    "name": "ipython",
    "version": 3
   },
   "file_extension": ".py",
   "mimetype": "text/x-python",
   "name": "python",
   "nbconvert_exporter": "python",
   "pygments_lexer": "ipython3",
   "version": "3.9.13"
  }
 },
 "nbformat": 4,
 "nbformat_minor": 5
}
