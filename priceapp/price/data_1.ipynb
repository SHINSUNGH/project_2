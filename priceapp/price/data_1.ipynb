{
 "cells": [
  {
   "cell_type": "code",
   "execution_count": 1,
   "metadata": {},
   "outputs": [],
   "source": [
    "import pandas as pd\n",
    "import json\n",
    "import folium"
   ]
  },
  {
   "cell_type": "code",
   "execution_count": 2,
   "metadata": {},
   "outputs": [
    {
     "name": "stdout",
     "output_type": "stream",
     "text": [
      "<class 'pandas.core.frame.DataFrame'>\n",
      "RangeIndex: 144 entries, 0 to 143\n",
      "Data columns (total 5 columns):\n",
      " #   Column  Non-Null Count  Dtype  \n",
      "---  ------  --------------  -----  \n",
      " 0   연도      144 non-null    int64  \n",
      " 1   월       144 non-null    int64  \n",
      " 2   물가지수    144 non-null    float64\n",
      " 3   사용량     144 non-null    int64  \n",
      " 4   기간      144 non-null    float64\n",
      "dtypes: float64(2), int64(3)\n",
      "memory usage: 5.8 KB\n"
     ]
    }
   ],
   "source": [
    "df_1 = pd.read_csv(\"./전력량_물가지수_기간.csv\")\n",
    "df_1.drop(columns=['Unnamed: 0'], inplace=True)\n",
    "df_1.info()"
   ]
  },
  {
   "cell_type": "code",
   "execution_count": 3,
   "metadata": {},
   "outputs": [],
   "source": [
    "df_1['년월'] = df_1['년월'].apply(lambda x: pd.to_datetime(str(x), format='%Y_%m')).dt.strftime(\"%Y-%m\")"
   ]
  },
  {
   "cell_type": "code",
   "execution_count": 4,
   "metadata": {},
   "outputs": [
    {
     "name": "stdout",
     "output_type": "stream",
     "text": [
      "<class 'pandas.core.frame.DataFrame'>\n",
      "RangeIndex: 144 entries, 0 to 143\n",
      "Data columns (total 5 columns):\n",
      " #   Column  Non-Null Count  Dtype  \n",
      "---  ------  --------------  -----  \n",
      " 0   년월      144 non-null    object \n",
      " 1   연도      144 non-null    int64  \n",
      " 2   월       144 non-null    int64  \n",
      " 3   코스피 평균  144 non-null    float64\n",
      " 4   사용량     144 non-null    int64  \n",
      "dtypes: float64(1), int64(3), object(1)\n",
      "memory usage: 5.8+ KB\n"
     ]
    }
   ],
   "source": [
    "df_1.info()"
   ]
  },
  {
   "cell_type": "code",
   "execution_count": 5,
   "metadata": {},
   "outputs": [
    {
     "data": {
      "text/html": [
       "<div>\n",
       "<style scoped>\n",
       "    .dataframe tbody tr th:only-of-type {\n",
       "        vertical-align: middle;\n",
       "    }\n",
       "\n",
       "    .dataframe tbody tr th {\n",
       "        vertical-align: top;\n",
       "    }\n",
       "\n",
       "    .dataframe thead th {\n",
       "        text-align: right;\n",
       "    }\n",
       "</style>\n",
       "<table border=\"1\" class=\"dataframe\">\n",
       "  <thead>\n",
       "    <tr style=\"text-align: right;\">\n",
       "      <th></th>\n",
       "      <th>년월</th>\n",
       "      <th>연도</th>\n",
       "      <th>월</th>\n",
       "      <th>코스피 평균</th>\n",
       "      <th>사용량</th>\n",
       "    </tr>\n",
       "  </thead>\n",
       "  <tbody>\n",
       "    <tr>\n",
       "      <th>0</th>\n",
       "      <td>2010-01</td>\n",
       "      <td>2010</td>\n",
       "      <td>1</td>\n",
       "      <td>1682.16</td>\n",
       "      <td>39696747</td>\n",
       "    </tr>\n",
       "    <tr>\n",
       "      <th>1</th>\n",
       "      <td>2010-02</td>\n",
       "      <td>2010</td>\n",
       "      <td>2</td>\n",
       "      <td>1598.96</td>\n",
       "      <td>37208030</td>\n",
       "    </tr>\n",
       "    <tr>\n",
       "      <th>2</th>\n",
       "      <td>2010-03</td>\n",
       "      <td>2010</td>\n",
       "      <td>3</td>\n",
       "      <td>1665.50</td>\n",
       "      <td>35554125</td>\n",
       "    </tr>\n",
       "    <tr>\n",
       "      <th>3</th>\n",
       "      <td>2010-04</td>\n",
       "      <td>2010</td>\n",
       "      <td>4</td>\n",
       "      <td>1730.29</td>\n",
       "      <td>35968361</td>\n",
       "    </tr>\n",
       "    <tr>\n",
       "      <th>4</th>\n",
       "      <td>2010-05</td>\n",
       "      <td>2010</td>\n",
       "      <td>5</td>\n",
       "      <td>1648.30</td>\n",
       "      <td>33809235</td>\n",
       "    </tr>\n",
       "    <tr>\n",
       "      <th>...</th>\n",
       "      <td>...</td>\n",
       "      <td>...</td>\n",
       "      <td>...</td>\n",
       "      <td>...</td>\n",
       "      <td>...</td>\n",
       "    </tr>\n",
       "    <tr>\n",
       "      <th>139</th>\n",
       "      <td>2021-08</td>\n",
       "      <td>2021</td>\n",
       "      <td>8</td>\n",
       "      <td>3182.50</td>\n",
       "      <td>48929956</td>\n",
       "    </tr>\n",
       "    <tr>\n",
       "      <th>140</th>\n",
       "      <td>2021-09</td>\n",
       "      <td>2021</td>\n",
       "      <td>9</td>\n",
       "      <td>3141.70</td>\n",
       "      <td>44818884</td>\n",
       "    </tr>\n",
       "    <tr>\n",
       "      <th>141</th>\n",
       "      <td>2021-10</td>\n",
       "      <td>2021</td>\n",
       "      <td>10</td>\n",
       "      <td>2989.87</td>\n",
       "      <td>41838223</td>\n",
       "    </tr>\n",
       "    <tr>\n",
       "      <th>142</th>\n",
       "      <td>2021-11</td>\n",
       "      <td>2021</td>\n",
       "      <td>11</td>\n",
       "      <td>2964.30</td>\n",
       "      <td>42829617</td>\n",
       "    </tr>\n",
       "    <tr>\n",
       "      <th>143</th>\n",
       "      <td>2021-12</td>\n",
       "      <td>2021</td>\n",
       "      <td>12</td>\n",
       "      <td>2988.49</td>\n",
       "      <td>47250619</td>\n",
       "    </tr>\n",
       "  </tbody>\n",
       "</table>\n",
       "<p>144 rows × 5 columns</p>\n",
       "</div>"
      ],
      "text/plain": [
       "          년월    연도   월   코스피 평균       사용량\n",
       "0    2010-01  2010   1  1682.16  39696747\n",
       "1    2010-02  2010   2  1598.96  37208030\n",
       "2    2010-03  2010   3  1665.50  35554125\n",
       "3    2010-04  2010   4  1730.29  35968361\n",
       "4    2010-05  2010   5  1648.30  33809235\n",
       "..       ...   ...  ..      ...       ...\n",
       "139  2021-08  2021   8  3182.50  48929956\n",
       "140  2021-09  2021   9  3141.70  44818884\n",
       "141  2021-10  2021  10  2989.87  41838223\n",
       "142  2021-11  2021  11  2964.30  42829617\n",
       "143  2021-12  2021  12  2988.49  47250619\n",
       "\n",
       "[144 rows x 5 columns]"
      ]
     },
     "execution_count": 5,
     "metadata": {},
     "output_type": "execute_result"
    }
   ],
   "source": [
    "df_1"
   ]
  },
  {
   "cell_type": "code",
   "execution_count": 6,
   "metadata": {},
   "outputs": [],
   "source": [
    "df_1.to_csv('전력사용량,코스피.csv')"
   ]
  }
 ],
 "metadata": {
  "kernelspec": {
   "display_name": "gj_django_kernel",
   "language": "python",
   "name": "gj_django"
  },
  "language_info": {
   "codemirror_mode": {
    "name": "ipython",
    "version": 3
   },
   "file_extension": ".py",
   "mimetype": "text/x-python",
   "name": "python",
   "nbconvert_exporter": "python",
   "pygments_lexer": "ipython3",
   "version": "3.9.16"
  },
  "orig_nbformat": 4
 },
 "nbformat": 4,
 "nbformat_minor": 2
}
